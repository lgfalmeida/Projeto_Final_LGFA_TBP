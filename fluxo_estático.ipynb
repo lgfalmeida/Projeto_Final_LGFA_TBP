{
 "cells": [
  {
   "cell_type": "code",
   "execution_count": 1,
   "metadata": {},
   "outputs": [],
   "source": [
    "# Importando os pacotes necessários\n",
    "import py_dss_interface\n",
    "import pandas as pd\n",
    "import matplotlib.pyplot as plt\n",
    "import numpy as np\n",
    "import datetime\n",
    "import math"
   ]
  },
  {
   "cell_type": "code",
   "execution_count": 2,
   "metadata": {},
   "outputs": [
    {
     "name": "stdout",
     "output_type": "stream",
     "text": [
      "OpenDSS Started successfully! \n",
      "OpenDSS Version 9.4.0.1 (64-bit build); License Status: Open \n",
      "\n",
      "\n"
     ]
    },
    {
     "data": {
      "text/plain": [
       "0"
      ]
     },
     "execution_count": 2,
     "metadata": {},
     "output_type": "execute_result"
    }
   ],
   "source": [
    "# Criando o objeto \"dss\" e arquivo a ser compilado\n",
    "dss_file = \"C:\\Projeto_Final\\8500-Node\\Master.dss\"\n",
    "dss = py_dss_interface.DSSDLL()\n",
    "\n",
    "# Compilando arquivo com dados do sistema\n",
    "dss.text(\"Clear\")\n",
    "dss.text(\"compile [{}]\".format(dss_file))\n",
    "# Inserindo um medidor de Energia no Alimentador que sai da subestação principal\n",
    "alimentador = 'Line.ln5815900-1'\n",
    "dss.text(f\"New Energymeter.m1 {alimentador} 1\")\n",
    "# Inserindo um monitor das grandezas elétricas no Alimentador que sai da subestação principal\n",
    "dss.text(f\"New Monitor.m1_power {alimentador} terminal=1 mode=1 ppolar=False\")\n",
    "dss.text(f\"New Monitor.m1_voltage {alimentador} terminal=1 mode=0 ppolar=False\")\n",
    "# Definindo itens de controle e iterações do software\n",
    "dss.text(\"Set Maxiterations=20\")\n",
    "dss.text(\"Set maxcontrolit=100\")\n",
    "\n",
    "#Resolvendo Fluxo de Potência Estático\n",
    "dss.solution_solve()"
   ]
  },
  {
   "cell_type": "code",
   "execution_count": 3,
   "metadata": {},
   "outputs": [
    {
     "name": "stdout",
     "output_type": "stream",
     "text": [
      "A potência ativa fornecida ao sistema é: 11.984 MW\n",
      "A potência reativa fornecida ao sistema é: 1.385 MVAr\n",
      "O total de perdas ativas no sistema é 1.21 MW\n",
      "O total de perdas reativas no sistema é 2.768 MVAr\n"
     ]
    }
   ],
   "source": [
    "# Resultados de Potência Fornecida e Perdas no Sistema\n",
    "P_MW = round(dss.circuit_total_power()[0]*-1/10**3,3)\n",
    "Q_MVAr = round(dss.circuit_total_power()[1]*-1/10**3,3)\n",
    "Total_Losses_MW = round(dss.circuit_losses()[0]/10**6,3)\n",
    "Total_Losses_MVAR = round(dss.circuit_losses()[1]/10**6,3)\n",
    "print(f\"A potência ativa fornecida ao sistema é: {P_MW} MW\")\n",
    "print(f\"A potência reativa fornecida ao sistema é: {Q_MVAr} MVAr\")\n",
    "print(f\"O total de perdas ativas no sistema é {Total_Losses_MW} MW\")\n",
    "print(f\"O total de perdas reativas no sistema é {Total_Losses_MVAR} MVAr\")"
   ]
  },
  {
   "cell_type": "code",
   "execution_count": 4,
   "metadata": {},
   "outputs": [
    {
     "name": "stdout",
     "output_type": "stream",
     "text": [
      "O sistema possui 1177 cargas, que resultam em uma potência instalada de: 11.11 MVA, sendo 10.77 MW de potência ativa e\n",
      "2.7 MVAr de reativa\n"
     ]
    }
   ],
   "source": [
    "# Construindo Lista de Cargas\n",
    "loads_count = dss.loads_count()\n",
    "loads_nome = list()\n",
    "loads_kVA = list()\n",
    "loads_kW = list()\n",
    "loads_kVAr = list()\n",
    "\n",
    "\n",
    "dss.loads_first()\n",
    "for load in list(range(0,loads_count)):\n",
    "    loads_nome.append(dss.loads_read_name()) \n",
    "    loads_kVA.append(dss.loads_read_kva())\n",
    "    loads_kW.append(dss.loads_read_kw())\n",
    "    loads_kVAr.append(dss.loads_read_kvar())\n",
    "    dss.loads_next()\n",
    "\n",
    "load_total_MVA = round((np.sum(loads_kVA)/10**3),2)\n",
    "load_total_MW = round((np.sum(loads_kW)/10**3),2)\n",
    "load_total_MVAr = round((np.sum(loads_kVAr)/10**3),2)\n",
    "\n",
    "print(f\"O sistema possui {loads_count} cargas, que resultam em uma potência instalada de: {load_total_MVA} MVA, sendo {load_total_MW} MW de potência ativa e\\n{load_total_MVAr} MVAr de reativa\")"
   ]
  },
  {
   "cell_type": "code",
   "execution_count": 46,
   "metadata": {},
   "outputs": [
    {
     "data": {
      "text/plain": [
       "Tipo\n",
       "CapControl        9\n",
       "Capacitor        10\n",
       "EnergyMeter       1\n",
       "Line           3703\n",
       "Load           1177\n",
       "Monitor           2\n",
       "Reactor           1\n",
       "RegControl       12\n",
       "Transformer    1190\n",
       "Vsource           1\n",
       "Name: Tipo, dtype: int64"
      ]
     },
     "execution_count": 46,
     "metadata": {},
     "output_type": "execute_result"
    }
   ],
   "source": [
    "# Informações do Sistema\n",
    "info_sistema = losses.groupby('Tipo')['Tipo'].count()\n",
    "info_sistema"
   ]
  },
  {
   "cell_type": "code",
   "execution_count": 37,
   "metadata": {},
   "outputs": [],
   "source": [
    "# Criando listas com nomes dos elementos e suas perdas em kW e kVAr\n",
    "elementos_losses = dss.circuit_all_element_losses()\n",
    "elementos = dss.circuit_all_element_names()\n",
    "losses_kW = elementos_losses[::2]\n",
    "losses_kVAr = elementos_losses[1::2]\n",
    "\n",
    "# Criando dataframe com as perdas por equipamento\n",
    "losses = pd.DataFrame(elementos,columns=['elementos'])\n",
    "losses['losses_kW'] = losses_kW\n",
    "losses['losses_kVAr'] = losses_kVAr\n",
    "losses['Tipo'] = losses['elementos'].str.split(pat=\".\",expand=True)[0]\n",
    "losses = losses.set_index('elementos')\n",
    "\n",
    "# Perdas nas Linhas\n",
    "line_losses = losses.query('Tipo==\"Line\"')\n",
    "\n",
    "# LT com maior perda de potência ativa\n",
    "max_line_losses = line_losses[(line_losses.losses_kW==line_losses.max()[0])]\n",
    "max_ll_kw = max_line_losses['losses_kW'][0]\n",
    "max_ll_kvar = max_line_losses['losses_kVAr'][0]\n",
    "max_ll_name = max_line_losses.index[0].upper()"
   ]
  },
  {
   "cell_type": "code",
   "execution_count": null,
   "metadata": {},
   "outputs": [],
   "source": [
    "# Ativando a linha com maior perda técnica de potência ativa\n",
    "dss.circuit_set_active_element(max_ll_name)\n",
    "dss.cktelement_name()\n",
    "\n",
    "# Lendo número de fases da linha\n",
    "line_phases = dss.cktelement_num_phases()\n",
    "\n",
    "# Lendo as barras que a linha está conectada\n",
    "line_bus1 = dss.cktelement_read_bus_names()[0].upper()\n",
    "line_bus2 = dss.cktelement_read_bus_names()[1].upper()\n",
    "\n",
    "# Lendo a tensão de base da barra 1 da linha\n",
    "dss.circuit_set_active_bus(line_bus1)\n",
    "bus1_kvbase = dss.bus_kv_base()*math.sqrt(3)\n",
    "\n",
    "# Potência Ativa que entra e sai da linha\n",
    "pkw_max_ll_bus1 = sum(dss.cktelement_powers()[0:6:2])\n",
    "pkw_max_ll_bus2 = sum(dss.cktelement_powers()[6:11:2])\n",
    "\n",
    "# Potência Ativa que entra e sai da linha\n",
    "pkvar_max_ll_bus1 = sum(dss.cktelement_powers()[1:6:2])\n",
    "pvar_max_ll_bus2 = sum(dss.cktelement_powers()[7:12:2])"
   ]
  },
  {
   "cell_type": "code",
   "execution_count": null,
   "metadata": {},
   "outputs": [],
   "source": [
    "# Perdas nos Equipamentos e informações\n",
    "print(f\"A linha com mais perdas técnicas é a {max_ll_name} e possui {line_phases} fases\")\n",
    "print(f\"A LT está conectada às barras {line_bus1} e {line_bus2}\")\n",
    "print(f\"A tensão de base das barras cujo a {max_ll_name} está conectada é: {bus1_kvbase} kV\")\n",
    "print(f\"A potência ativa na entrada da {max_ll_name} é {round(pkw_max_ll_bus1, 3)} kW\")\n",
    "print(f\"A potência ativa na saída da {max_ll_name} é {round(-1*pkw_max_ll_bus2,3)} kW\")\n",
    "print(\"\\nAs Perdas Técnicas de em kW e kVAr são mostradas na tabela abaixo\")\n",
    "max_line_losses.head()"
   ]
  },
  {
   "cell_type": "code",
   "execution_count": null,
   "metadata": {},
   "outputs": [],
   "source": [
    "# Criando Listas das Tensões nos nós em PU\n",
    "vmag_list_pu = dss.circuit_all_bus_vmag_pu()\n",
    "nodes_names = dss.circuit_all_node_names()"
   ]
  },
  {
   "cell_type": "code",
   "execution_count": null,
   "metadata": {},
   "outputs": [],
   "source": [
    "# Lista de todas as barras do sistema\n",
    "bus_list = dss.circuit_all_bus_names()\n",
    "\n",
    "# Lista de barras trifásicas\n",
    "bus_3ph_list = list()\n",
    "bus_kvbase_dict = dict()\n",
    "\n",
    "for bus in bus_list:\n",
    "    dss.circuit_set_active_bus(bus)\n",
    "    num_fases = len(dss.bus_nodes())\n",
    "    kv_base = dss.bus_kv_base()\n",
    "\n",
    "    if num_fases == 3 and kv_base > (11.0/math.sqrt(3)):\n",
    "        bus_3ph_list.append(bus)\n",
    "        bus_kvbase_dict[bus] = kv_base"
   ]
  },
  {
   "cell_type": "code",
   "execution_count": null,
   "metadata": {},
   "outputs": [],
   "source": [
    "# Encontrando a barra trifásica com menor tensão em pu\n",
    "vmin = 20000\n",
    "\n",
    "for bus in bus_3ph_list:\n",
    "    dss.circuit_set_active_bus(bus)\n",
    "    v_min = min(dss.bus_pu_vmag_angle()[::2])\n",
    "    if v_min < vmin:\n",
    "        nome = dss.bus_name()\n",
    "        base_kV = (dss.bus_kv_base()*math.sqrt(3))\n",
    "        vmin = v_min\n",
    "\n",
    "print(f\"A barra com menor tensão trifásica é a {nome.upper()}\")\n",
    "print(f\"A tensão base dessa barra é: {base_kV} kV\")\n",
    "print(f\"A menor tensão VLN em PU de uma barra trifásica é: {round(vmin,3)} pu\")"
   ]
  },
  {
   "cell_type": "code",
   "execution_count": null,
   "metadata": {},
   "outputs": [],
   "source": [
    "# Pegando a Barra com menor tensão em PU\n",
    "vmin = min(vmag_list_pu) #menor valor da lista de tensões\n",
    "vmin_index = vmag_list_pu.index(vmin) #índice da menor tensão na lista\n",
    "node_vmin = nodes_names[vmin_index] #nome do nó segundo o índice\n",
    "bus_vmin = node_vmin.split(\".\")[0].upper() #nome da barra com menor tensão em PU, transformando em maiúsculo\n",
    "dss.circuit_set_active_bus(bus_vmin)\n",
    "bus_vmin_kvbase = dss.bus_kv_base()*math.sqrt(3)\n",
    "print(f\"A barra com menor tensão, em PU, é a barra {bus_vmin}, que no fluxo de potência está com {round(vmin,3)} pu, equivalente à {round(vmin*bus_vmin_kvbase,3)} kV\")\n",
    "print(f\"A tensão de base dessa barra é {bus_vmin_kvbase} kV\")"
   ]
  },
  {
   "cell_type": "code",
   "execution_count": null,
   "metadata": {},
   "outputs": [],
   "source": [
    "# Plotando o Circuito com marcações das barras em que a LT com maior perda técnica está conectada.\n",
    "dss.text(\"AddBusMarker bus=M3032977 color=red size=2 code=15\")\n",
    "dss.text(\"AddBusMarker bus=M1166366 color=green size=2 code=15\")\n",
    "dss.text(\"Plot Circuit Power Max=5000 dots=n labels=n C1=Blue 1ph=3\")"
   ]
  }
 ],
 "metadata": {
  "kernelspec": {
   "display_name": "Python 3",
   "language": "python",
   "name": "python3"
  },
  "language_info": {
   "codemirror_mode": {
    "name": "ipython",
    "version": 3
   },
   "file_extension": ".py",
   "mimetype": "text/x-python",
   "name": "python",
   "nbconvert_exporter": "python",
   "pygments_lexer": "ipython3",
   "version": "3.7.9"
  },
  "orig_nbformat": 4,
  "vscode": {
   "interpreter": {
    "hash": "6f6ef8b643642e03f9af67365df024396c7db32ff9ad137d130daa180a9f3f23"
   }
  }
 },
 "nbformat": 4,
 "nbformat_minor": 2
}
